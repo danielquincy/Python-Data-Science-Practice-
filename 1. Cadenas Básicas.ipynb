{
  "nbformat": 4,
  "nbformat_minor": 0,
  "metadata": {
    "colab": {
      "provenance": [],
      "toc_visible": true,
      "authorship_tag": "ABX9TyNWFOX4UoAhq1nL2PW6IUBf",
      "include_colab_link": true
    },
    "kernelspec": {
      "name": "python3",
      "display_name": "Python 3"
    },
    "language_info": {
      "name": "python"
    }
  },
  "cells": [
    {
      "cell_type": "markdown",
      "metadata": {
        "id": "view-in-github",
        "colab_type": "text"
      },
      "source": [
        "<a href=\"https://colab.research.google.com/github/danielquincy/Python-Data-Science-Practice-/blob/main/1.%20Cadenas%20B%C3%A1sicas.ipynb\" target=\"_parent\"><img src=\"https://colab.research.google.com/assets/colab-badge.svg\" alt=\"Open In Colab\"/></a>"
      ]
    },
    {
      "cell_type": "code",
      "execution_count": 3,
      "metadata": {
        "id": "xvuqkZer7cMg"
      },
      "outputs": [],
      "source": [
        "##1. Introducción a Python"
      ]
    },
    {
      "cell_type": "code",
      "source": [
        "from typing_extensions import Concatenate\n",
        "#Variables\n",
        "nombre = 'Daniel A.'\n",
        "apellido = 'Prado Amoretty'\n",
        "edad = 33\n",
        "cedula = '001-010292-0033T'\n",
        "cadena = f'Mi Nombre es  {nombre}  {apellido}  y tengo  {edad}  años de edad, con identificación:  {cedula}'\n",
        "cadena"
      ],
      "metadata": {
        "colab": {
          "base_uri": "https://localhost:8080/",
          "height": 35
        },
        "id": "iMFN8cSR8BcQ",
        "outputId": "d10b2374-9cbd-479a-c098-2a25199c178e"
      },
      "execution_count": 4,
      "outputs": [
        {
          "output_type": "execute_result",
          "data": {
            "text/plain": [
              "'Mi Nombre es  Daniel A.  Prado Amoretty  y tengo  33  años de edad, con identificación:  001-010292-0033T'"
            ],
            "application/vnd.google.colaboratory.intrinsic+json": {
              "type": "string"
            }
          },
          "metadata": {},
          "execution_count": 4
        }
      ]
    },
    {
      "cell_type": "code",
      "source": [
        "# Tamaño de la Cadena\n",
        "print('Tamaño de la Cadena es: ' + str(len(cadena)))"
      ],
      "metadata": {
        "colab": {
          "base_uri": "https://localhost:8080/"
        },
        "id": "2OZb3EFs8oJe",
        "outputId": "278f5e86-e5a4-439f-f232-f6168061872b"
      },
      "execution_count": 5,
      "outputs": [
        {
          "output_type": "stream",
          "name": "stdout",
          "text": [
            "Tamaño de la Cadena es: 105\n"
          ]
        }
      ]
    },
    {
      "cell_type": "code",
      "source": [
        "# Mayúscula la Primera Letra de la cadena\n",
        "print (cadena.capitalize())"
      ],
      "metadata": {
        "colab": {
          "base_uri": "https://localhost:8080/"
        },
        "id": "EzjJ5WygDnVW",
        "outputId": "6232f6ab-c443-40b9-8247-21ebb199c210"
      },
      "execution_count": 6,
      "outputs": [
        {
          "output_type": "stream",
          "name": "stdout",
          "text": [
            "Mi nombre es  daniel a.  prado amoretty  y tengo  33  años de edad, con identificación:  001-010292-0033t\n"
          ]
        }
      ]
    },
    {
      "cell_type": "code",
      "source": [
        "# Buscar letra en la Cadena con la función Index\n",
        "print(cadena.index('Daniel'))"
      ],
      "metadata": {
        "colab": {
          "base_uri": "https://localhost:8080/"
        },
        "id": "snJNkJeKDucc",
        "outputId": "d7b0c655-b657-4f71-af51-2f4a5dcdf555"
      },
      "execution_count": 7,
      "outputs": [
        {
          "output_type": "stream",
          "name": "stdout",
          "text": [
            "14\n"
          ]
        }
      ]
    },
    {
      "cell_type": "code",
      "source": [
        "# Convertir toda la cadena a Masyúscula\n",
        "print(cadena.upper())"
      ],
      "metadata": {
        "colab": {
          "base_uri": "https://localhost:8080/"
        },
        "id": "WLgLnyquJN_J",
        "outputId": "5d5fd317-5091-4541-db7d-84945ed05606"
      },
      "execution_count": 8,
      "outputs": [
        {
          "output_type": "stream",
          "name": "stdout",
          "text": [
            "MI NOMBRE ES  DANIEL A.  PRADO AMORETTY  Y TENGO  33  AÑOS DE EDAD, CON IDENTIFICACIÓN:  001-010292-0033T\n"
          ]
        }
      ]
    },
    {
      "cell_type": "code",
      "source": [
        "# Verificar si la cadena es alfanumérica\n",
        "print(cadena.isalnum())"
      ],
      "metadata": {
        "colab": {
          "base_uri": "https://localhost:8080/"
        },
        "id": "MLl2EMb0JgWH",
        "outputId": "eec28435-28ab-45d6-a5dc-e0f91dffcc2b"
      },
      "execution_count": 10,
      "outputs": [
        {
          "output_type": "stream",
          "name": "stdout",
          "text": [
            "False\n"
          ]
        }
      ]
    },
    {
      "cell_type": "code",
      "source": [
        "# Verificar si la cadena es alfabetico\n",
        "print(cadena.isalpha())"
      ],
      "metadata": {
        "colab": {
          "base_uri": "https://localhost:8080/"
        },
        "id": "EOxEVUWD0H0d",
        "outputId": "8b775ef5-ab05-4d88-ccab-b887a7151d75"
      },
      "execution_count": 11,
      "outputs": [
        {
          "output_type": "stream",
          "name": "stdout",
          "text": [
            "False\n"
          ]
        }
      ]
    },
    {
      "cell_type": "code",
      "source": [
        "# Verificar si una variable es digito\n",
        "print(cedula.isdigit())"
      ],
      "metadata": {
        "colab": {
          "base_uri": "https://localhost:8080/"
        },
        "id": "10Jth7u31Iw4",
        "outputId": "013aaefe-6e1b-406e-fb44-700dc25b1239"
      },
      "execution_count": 13,
      "outputs": [
        {
          "output_type": "stream",
          "name": "stdout",
          "text": [
            "False\n"
          ]
        }
      ]
    },
    {
      "cell_type": "code",
      "source": [],
      "metadata": {
        "id": "Ct6bCvP71QRQ"
      },
      "execution_count": null,
      "outputs": []
    },
    {
      "cell_type": "markdown",
      "source": [
        "# Sección nueva"
      ],
      "metadata": {
        "id": "b_6JFac81wk6"
      }
    }
  ]
}