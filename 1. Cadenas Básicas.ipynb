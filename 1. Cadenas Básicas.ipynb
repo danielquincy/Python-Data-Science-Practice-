{
  "nbformat": 4,
  "nbformat_minor": 0,
  "metadata": {
    "colab": {
      "provenance": [],
      "toc_visible": true,
      "authorship_tag": "ABX9TyM7zmka0+Y1P1lFjuo42fW4",
      "include_colab_link": true
    },
    "kernelspec": {
      "name": "python3",
      "display_name": "Python 3"
    },
    "language_info": {
      "name": "python"
    }
  },
  "cells": [
    {
      "cell_type": "markdown",
      "metadata": {
        "id": "view-in-github",
        "colab_type": "text"
      },
      "source": [
        "<a href=\"https://colab.research.google.com/github/danielquincy/Python-Data-Science-Practice-/blob/main/1.%20Cadenas%20B%C3%A1sicas.ipynb\" target=\"_parent\"><img src=\"https://colab.research.google.com/assets/colab-badge.svg\" alt=\"Open In Colab\"/></a>"
      ]
    },
    {
      "cell_type": "code",
      "execution_count": null,
      "metadata": {
        "id": "xvuqkZer7cMg"
      },
      "outputs": [],
      "source": [
        "##1. Introducción a Python"
      ]
    },
    {
      "cell_type": "code",
      "source": [
        "from typing_extensions import Concatenate\n",
        "#Variables\n",
        "nombre = 'Daniel A.'\n",
        "apellido = 'Prado Amoretty'\n",
        "edad = 33\n",
        "cedula = '001-010292-0033T'\n",
        "cadena = f'Mi Nombre es  {nombre}  {apellido}  y tengo  {edad}  años de edad, con identificación:  {cedula}'\n",
        "cadena"
      ],
      "metadata": {
        "colab": {
          "base_uri": "https://localhost:8080/",
          "height": 35
        },
        "id": "iMFN8cSR8BcQ",
        "outputId": "4765d4e4-7d74-47d2-8d4f-bc314a475906"
      },
      "execution_count": null,
      "outputs": [
        {
          "output_type": "execute_result",
          "data": {
            "text/plain": [
              "'Mi Nombre es  Daniel A.  Prado Amoretty  y tengo  33  años de edad, con identificación:  001-010292-0033T'"
            ],
            "application/vnd.google.colaboratory.intrinsic+json": {
              "type": "string"
            }
          },
          "metadata": {},
          "execution_count": 7
        }
      ]
    },
    {
      "cell_type": "code",
      "source": [
        "# Tamaño de la Cadena\n",
        "print('Tamaño de la Cadena es: ' + str(len(cadena)))"
      ],
      "metadata": {
        "colab": {
          "base_uri": "https://localhost:8080/"
        },
        "id": "2OZb3EFs8oJe",
        "outputId": "d5350bb1-3c58-40cb-d5aa-138bfc7186e5"
      },
      "execution_count": null,
      "outputs": [
        {
          "output_type": "stream",
          "name": "stdout",
          "text": [
            "Tamaño de la Cadena es: 105\n"
          ]
        }
      ]
    },
    {
      "cell_type": "code",
      "source": [
        "# Mayúscula la Primera Letra de la cadena\n",
        "print (cadena.capitalize())"
      ],
      "metadata": {
        "colab": {
          "base_uri": "https://localhost:8080/"
        },
        "id": "EzjJ5WygDnVW",
        "outputId": "6b569b42-d109-451f-c55c-adf4d1555607"
      },
      "execution_count": null,
      "outputs": [
        {
          "output_type": "stream",
          "name": "stdout",
          "text": [
            "Mi nombre es  daniel a.  prado amoretty  y tengo  33  años de edad, con identificación:  001-010292-0033t\n"
          ]
        }
      ]
    },
    {
      "cell_type": "code",
      "source": [
        "# Buscar letra en la Cadena con la función Index\n",
        "print(cadena.index('Daniel'))"
      ],
      "metadata": {
        "colab": {
          "base_uri": "https://localhost:8080/"
        },
        "id": "snJNkJeKDucc",
        "outputId": "02ecc3fe-4d8a-40b1-8d01-4d3379432a62"
      },
      "execution_count": null,
      "outputs": [
        {
          "output_type": "stream",
          "name": "stdout",
          "text": [
            "14\n"
          ]
        }
      ]
    },
    {
      "cell_type": "code",
      "source": [
        "# Convertir toda la cadena a Masyúscula\n",
        "print(cadena.upper())"
      ],
      "metadata": {
        "colab": {
          "base_uri": "https://localhost:8080/"
        },
        "id": "WLgLnyquJN_J",
        "outputId": "1a502797-b41c-49ff-ec7b-fc4e69fb474d"
      },
      "execution_count": null,
      "outputs": [
        {
          "output_type": "stream",
          "name": "stdout",
          "text": [
            "MI NOMBRE ES  DANIEL A.  PRADO AMORETTY  Y TENGO  33  AÑOS DE EDAD, CON IDENTIFICACIÓN:  001-010292-0033T\n"
          ]
        }
      ]
    },
    {
      "cell_type": "code",
      "source": [
        "# Verificar si la cadena es alfanumérica\n",
        "print(cadena.isalnum())"
      ],
      "metadata": {
        "colab": {
          "base_uri": "https://localhost:8080/"
        },
        "id": "MLl2EMb0JgWH",
        "outputId": "bea817a7-8c21-4ec0-954c-708fc83b6289"
      },
      "execution_count": null,
      "outputs": [
        {
          "output_type": "stream",
          "name": "stdout",
          "text": [
            "False\n"
          ]
        }
      ]
    },
    {
      "cell_type": "code",
      "source": [
        "# Verificar si la cadena es alfabetico\n",
        "print(cadena.isalpha())"
      ],
      "metadata": {
        "colab": {
          "base_uri": "https://localhost:8080/"
        },
        "id": "EOxEVUWD0H0d",
        "outputId": "3b00f960-f204-45c8-b2de-2c121bf59e26"
      },
      "execution_count": null,
      "outputs": [
        {
          "output_type": "stream",
          "name": "stdout",
          "text": [
            "False\n"
          ]
        }
      ]
    },
    {
      "cell_type": "code",
      "source": [
        "# Verificar si una variable es digito\n",
        "print(cedula.isdigit())"
      ],
      "metadata": {
        "colab": {
          "base_uri": "https://localhost:8080/"
        },
        "id": "10Jth7u31Iw4",
        "outputId": "522bd26c-b4cd-4ae2-8612-0548ec0f7c93"
      },
      "execution_count": null,
      "outputs": [
        {
          "output_type": "stream",
          "name": "stdout",
          "text": [
            "False\n"
          ]
        }
      ]
    },
    {
      "cell_type": "code",
      "source": [],
      "metadata": {
        "id": "Ct6bCvP71QRQ"
      },
      "execution_count": null,
      "outputs": []
    }
  ]
}