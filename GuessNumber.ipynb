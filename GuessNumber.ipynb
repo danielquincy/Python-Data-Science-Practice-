{
  "nbformat": 4,
  "nbformat_minor": 0,
  "metadata": {
    "colab": {
      "provenance": [],
      "authorship_tag": "ABX9TyNi1JZBAu+PLtP3SEomORAQ",
      "include_colab_link": true
    },
    "kernelspec": {
      "name": "python3",
      "display_name": "Python 3"
    },
    "language_info": {
      "name": "python"
    }
  },
  "cells": [
    {
      "cell_type": "markdown",
      "metadata": {
        "id": "view-in-github",
        "colab_type": "text"
      },
      "source": [
        "<a href=\"https://colab.research.google.com/github/danielquincy/Python-Data-Science-Practice-/blob/main/GuessNumber.ipynb\" target=\"_parent\"><img src=\"https://colab.research.google.com/assets/colab-badge.svg\" alt=\"Open In Colab\"/></a>"
      ]
    },
    {
      "cell_type": "code",
      "execution_count": 1,
      "metadata": {
        "id": "8ikjmqBOzjgO"
      },
      "outputs": [],
      "source": [
        "#Importar Paquetes\n",
        "import random\n",
        "import time"
      ]
    },
    {
      "cell_type": "code",
      "source": [
        "#Declaración de Variables\n",
        "n = random.randrange(1,100)"
      ],
      "metadata": {
        "id": "kCne4mcQz_p6"
      },
      "execution_count": 2,
      "outputs": []
    },
    {
      "cell_type": "code",
      "source": [
        "print(\"Adivina un número entre 1 y 100\")\n",
        "time.sleep(2)\n",
        "adivinanza = int(input(\"Ingresa tu número: \"))\n",
        "while adivinanza != n:\n",
        "    if adivinanza < n:\n",
        "        print(\"Demasiado bajo\")\n",
        "        adivinanza = int(input(\"Ingresa tu número: \"))\n",
        "    elif adivinanza > n:\n",
        "        print(\"Demasiado alto\")\n",
        "        adivinanza = int(input(\"Ingresa tu número: \"))\n",
        "    else: break\n",
        "print(\"Correcto\")"
      ],
      "metadata": {
        "colab": {
          "base_uri": "https://localhost:8080/"
        },
        "id": "IYrF9sn_0IsJ",
        "outputId": "4c871aa2-16aa-4bc6-fa46-6a5c6a6e7914"
      },
      "execution_count": 4,
      "outputs": [
        {
          "output_type": "stream",
          "name": "stdout",
          "text": [
            "Adivina un número entre 1 y 100\n",
            "Ingresa tu número: 10\n",
            "Demasiado bajo\n",
            "Ingresa tu número: 50\n",
            "Demasiado bajo\n",
            "Ingresa tu número: 75\n",
            "Demasiado bajo\n",
            "Ingresa tu número: 80\n",
            "Demasiado bajo\n",
            "Ingresa tu número: 90\n",
            "Demasiado alto\n",
            "Ingresa tu número: 85\n",
            "Demasiado alto\n",
            "Ingresa tu número: 82\n",
            "Demasiado bajo\n",
            "Ingresa tu número: 83\n",
            "Demasiado bajo\n",
            "Ingresa tu número: 84\n",
            "Correcto\n"
          ]
        }
      ]
    },
    {
      "cell_type": "code",
      "source": [],
      "metadata": {
        "id": "LlRzoOjq0m0h"
      },
      "execution_count": null,
      "outputs": []
    }
  ]
}